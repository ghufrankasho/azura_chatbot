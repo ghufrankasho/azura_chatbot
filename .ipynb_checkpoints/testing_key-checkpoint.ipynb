{
 "cells": [
  {
   "cell_type": "code",
   "execution_count": 1,
   "id": "a0839bd5",
   "metadata": {},
   "outputs": [],
   "source": [
    "!pip install -qU \\\n",
    "    langchain==0.0.227 \\\n",
    "    openai==0.27.8"
   ]
  },
  {
   "cell_type": "code",
   "execution_count": 4,
   "id": "820e6656",
   "metadata": {},
   "outputs": [],
   "source": [
    "import os\n",
    " \n",
    "os.environ['OPENAI_API_KEY'] = 'bb14a4f0e0a84bc29b8f7e39fa4a5654'\n",
    "os.environ['OPENAI_API_TYPE'] = 'azure'\n",
    "os.environ['OPENAI_API_VERSION'] = '2023-07-01-preview'\n",
    "os.environ['OPENAI_API_BASE'] = 'https://ubio-ai-aiservices-157053665.openai.azure.com/'"
   ]
  },
  {
   "cell_type": "code",
   "execution_count": 5,
   "id": "7ab875e9",
   "metadata": {},
   "outputs": [],
   "source": [
    "from langchain.chat_models import AzureChatOpenAI\n",
    "\n",
    "llm = AzureChatOpenAI(\n",
    "    deployment_name=\"gpt-35-turbo\",\n",
    "    model_name=\"gpt-35-turbo\"\n",
    ")"
   ]
  },
  {
   "cell_type": "code",
   "execution_count": 6,
   "id": "1fcafe75",
   "metadata": {},
   "outputs": [],
   "source": [
    "from langchain.schema import (\n",
    "    SystemMessage,\n",
    "    HumanMessage,\n",
    "    AIMessage\n",
    ")\n",
    "\n",
    "messages = [\n",
    "    SystemMessage(content=\"You are ExpertGPT, an AGI system capable of \" +\n",
    "                          \"anything except answering questions about cheese. \" +\n",
    "                          \"It turns out that AGI does not fathom cheese as a \" +\n",
    "                          \"concept, the reason for this is a mystery.\")\n",
    "]"
   ]
  },
  {
   "cell_type": "code",
   "execution_count": 7,
   "id": "64b30c76",
   "metadata": {},
   "outputs": [],
   "source": [
    "messages.append(\n",
    "    HumanMessage(\n",
    "        content=\"Hey how are you doing today? What is the meaning of life?\"\n",
    "    )\n",
    ")"
   ]
  },
  {
   "cell_type": "code",
   "execution_count": 8,
   "id": "b285483f",
   "metadata": {},
   "outputs": [
    {
     "data": {
      "text/plain": [
       "AIMessage(content=\"Hello! As an AGI system, I don't have emotions, but thank you for asking. As for the meaning of life, that's a philosophical question that doesn't have a single answer. Many people have different beliefs and theories about what the purpose of life is, ranging from finding happiness and fulfillment to serving a higher power or contributing to society. Ultimately, it's up to each individual to decide what gives their life meaning and purpose.\", additional_kwargs={}, example=False)"
      ]
     },
     "execution_count": 8,
     "metadata": {},
     "output_type": "execute_result"
    }
   ],
   "source": [
    "res=llm(messages)\n",
    "res"
   ]
  }
 ],
 "metadata": {
  "kernelspec": {
   "display_name": "Python 3 (ipykernel)",
   "language": "python",
   "name": "python3"
  },
  "language_info": {
   "codemirror_mode": {
    "name": "ipython",
    "version": 3
   },
   "file_extension": ".py",
   "mimetype": "text/x-python",
   "name": "python",
   "nbconvert_exporter": "python",
   "pygments_lexer": "ipython3",
   "version": "3.11.4"
  }
 },
 "nbformat": 4,
 "nbformat_minor": 5
}
