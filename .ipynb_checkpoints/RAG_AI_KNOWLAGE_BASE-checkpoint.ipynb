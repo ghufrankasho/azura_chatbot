{
 "cells": [
  {
   "cell_type": "code",
   "execution_count": 1,
   "id": "9f04db45",
   "metadata": {},
   "outputs": [],
   "source": [
    "!pip install -qU \\\n",
    "    langchain==0.0.292 \\\n",
    "    openai==0.28.0 \\\n",
    "    datasets==2.10.1 \\\n",
    "    pinecone-client==2.2.4 \\\n",
    "    tiktoken==0.5.1"
   ]
  },
  {
   "cell_type": "code",
   "execution_count": 13,
   "id": "3b58c5e3",
   "metadata": {
    "scrolled": true
   },
   "outputs": [],
   "source": [
    "import os\n",
    " \n",
    "os.environ['OPENAI_API_KEY'] = os.getenv(\"AZURE_OPENAI_API_KEY\")\n",
    "os.environ['OPENAI_API_TYPE'] = 'azure'\n",
    "os.environ['OPENAI_API_VERSION'] = '2023-07-01-preview'\n",
    "os.environ['OPENAI_API_BASE'] = 'https://ubio-ai-aiservices-157053665.openai.azure.com/'"
   ]
  },
  {
   "cell_type": "code",
   "execution_count": 14,
   "id": "58588646",
   "metadata": {},
   "outputs": [],
   "source": [
    "from langchain.chat_models import AzureChatOpenAI\n",
    "\n",
    "llm = AzureChatOpenAI(\n",
    "    deployment_name=\"gpt-35-turbo\",\n",
    "    model_name=\"gpt-35-turbo\"\n",
    ")"
   ]
  },
  {
   "cell_type": "code",
   "execution_count": 15,
   "id": "5e11d4de",
   "metadata": {},
   "outputs": [],
   "source": [
    "from langchain.schema import (\n",
    "    SystemMessage,\n",
    "    HumanMessage,\n",
    "    AIMessage\n",
    ")\n",
    "\n",
    "messages = [\n",
    "    SystemMessage(content=\"You are a helpful assistant.\"),\n",
    "    HumanMessage(content=\"Hi AI, how are you today?\"),\n",
    "    AIMessage(content=\"I'm great thank you. How can I help you?\"),\n",
    "    HumanMessage(content=\"I'd like to understand string theory.\")\n",
    "]"
   ]
  },
  {
   "cell_type": "code",
   "execution_count": 17,
   "id": "480111a9",
   "metadata": {
    "scrolled": true
   },
   "outputs": [
    {
     "name": "stderr",
     "output_type": "stream",
     "text": [
      "Retrying langchain.chat_models.openai.ChatOpenAI.completion_with_retry.<locals>._completion_with_retry in 1.0 seconds as it raised APIConnectionError: Error communicating with OpenAI: HTTPSConnectionPool(host='ubio-ai-aiservices-157053665.openai.azure.com', port=443): Max retries exceeded with url: //openai/deployments/gpt-35-turbo/chat/completions?api-version=2023-07-01-preview (Caused by NewConnectionError('<urllib3.connection.HTTPSConnection object at 0x000001F2733B2F90>: Failed to establish a new connection: [Errno 11001] getaddrinfo failed')).\n"
     ]
    },
    {
     "data": {
      "text/plain": [
       "AIMessage(content=\"Sure, I'd be happy to help. String theory is a theoretical framework in physics that attempts to reconcile the principles of quantum mechanics and general relativity. According to string theory, the fundamental building blocks of the universe are not point-like particles, but rather tiny, one-dimensional objects called strings. \\n\\nThese strings vibrate at different frequencies, which give rise to different particles with varying properties, such as mass and charge. In this way, string theory provides a unified description of all the fundamental particles and forces of nature.\\n\\nOne of the key features of string theory is that it requires the existence of extra dimensions beyond the three dimensions of space and one dimension of time that we experience in our everyday lives. These extra dimensions are thought to be curled up and compactified, which means that they are too small to be directly observed.\\n\\nString theory has been the subject of much research and debate over the years, and it remains a topic of active investigation in theoretical physics.\", additional_kwargs={}, example=False)"
      ]
     },
     "execution_count": 17,
     "metadata": {},
     "output_type": "execute_result"
    }
   ],
   "source": [
    "res = llm(messages)\n",
    "res"
   ]
  },
  {
   "cell_type": "code",
   "execution_count": 18,
   "id": "e34c1152",
   "metadata": {
    "scrolled": true
   },
   "outputs": [
    {
     "name": "stdout",
     "output_type": "stream",
     "text": [
      "Sure, I'd be happy to help. String theory is a theoretical framework in physics that attempts to reconcile the principles of quantum mechanics and general relativity. According to string theory, the fundamental building blocks of the universe are not point-like particles, but rather tiny, one-dimensional objects called strings. \n",
      "\n",
      "These strings vibrate at different frequencies, which give rise to different particles with varying properties, such as mass and charge. In this way, string theory provides a unified description of all the fundamental particles and forces of nature.\n",
      "\n",
      "One of the key features of string theory is that it requires the existence of extra dimensions beyond the three dimensions of space and one dimension of time that we experience in our everyday lives. These extra dimensions are thought to be curled up and compactified, which means that they are too small to be directly observed.\n",
      "\n",
      "String theory has been the subject of much research and debate over the years, and it remains a topic of active investigation in theoretical physics.\n"
     ]
    }
   ],
   "source": [
    "print(res.content)"
   ]
  },
  {
   "cell_type": "code",
   "execution_count": 19,
   "id": "88a25e01",
   "metadata": {
    "scrolled": true
   },
   "outputs": [
    {
     "name": "stdout",
     "output_type": "stream",
     "text": [
      "Physicists believe that string theory has the potential to produce a unified theory because it can describe all of the fundamental forces of nature, including gravity, electromagnetism, and the strong and weak nuclear forces, within a single framework. \n",
      "\n",
      "In traditional particle physics, each of these forces is described by a separate theory, with different sets of particles and interactions. String theory, on the other hand, describes these forces as different aspects of a single underlying structure, which is the vibrational pattern of the strings.\n",
      "\n",
      "Additionally, string theory predicts the existence of extra dimensions beyond the three dimensions of space and one dimension of time that we experience in our everyday lives. This provides a possible explanation for the observed differences in strength between the fundamental forces, which is one of the key challenges in developing a unified theory.\n",
      "\n",
      "While string theory is still a work in progress and has not yet been experimentally verified, it remains a promising avenue for developing a unified theory of physics.\n"
     ]
    }
   ],
   "source": [
    "# add latest AI response to messages\n",
    "messages.append(res)\n",
    "\n",
    "# now create a new user prompt\n",
    "prompt = HumanMessage(\n",
    "    content=\"Why do physicists believe it can produce a 'unified theory'?\"\n",
    ")\n",
    "# add to messages\n",
    "messages.append(prompt)\n",
    "\n",
    "# send to chat-gpt\n",
    "res = llm(messages)\n",
    "\n",
    "print(res.content)"
   ]
  },
  {
   "cell_type": "code",
   "execution_count": 22,
   "id": "d4b65446",
   "metadata": {},
   "outputs": [],
   "source": [
    "# add latest AI response to messages\n",
    "messages.append(res)\n",
    "\n",
    "# now create a new user prompt\n",
    "prompt = HumanMessage(\n",
    "    content=\"What is so special about Llama 2?\"\n",
    ")\n",
    "# add to messages\n",
    "messages.append(prompt)\n",
    "\n",
    "# send to OpenAI\n",
    "res = llm(messages)"
   ]
  },
  {
   "cell_type": "code",
   "execution_count": 23,
   "id": "3047158b",
   "metadata": {},
   "outputs": [
    {
     "name": "stdout",
     "output_type": "stream",
     "text": [
      "I'm sorry, but I am not aware of any scientific concept or theory called \"Llama 2\". Could you please provide more context or information about what you are referring to?\n"
     ]
    }
   ],
   "source": [
    "print(res.content)"
   ]
  },
  {
   "cell_type": "code",
   "execution_count": 24,
   "id": "a3520377",
   "metadata": {},
   "outputs": [],
   "source": [
    "llmchain_information = [\n",
    "    \"A LLMChain is the most common type of chain. It consists of a PromptTemplate, a model (either an LLM or a ChatModel), and an optional output parser. This chain takes multiple input variables, uses the PromptTemplate to format them into a prompt. It then passes that to the model. Finally, it uses the OutputParser (if provided) to parse the output of the LLM into a final format.\",\n",
    "    \"Chains is an incredibly generic concept which returns to a sequence of modular components (or other chains) combined in a particular way to accomplish a common use case.\",\n",
    "    \"LangChain is a framework for developing applications powered by language models. We believe that the most powerful and differentiated applications will not only call out to a language model via an api, but will also: (1) Be data-aware: connect a language model to other sources of data, (2) Be agentic: Allow a language model to interact with its environment. As such, the LangChain framework is designed with the objective in mind to enable those types of applications.\"\n",
    "]\n",
    "\n",
    "source_knowledge = \"\\n\".join(llmchain_information)"
   ]
  },
  {
   "cell_type": "code",
   "execution_count": 25,
   "id": "ab633c08",
   "metadata": {},
   "outputs": [],
   "source": [
    "query = \"Can you tell me about the LLMChain in LangChain?\"\n",
    "\n",
    "augmented_prompt = f\"\"\"Using the contexts below, answer the query.\n",
    "\n",
    "Contexts:\n",
    "{source_knowledge}\n",
    "\n",
    "Query: {query}\"\"\""
   ]
  },
  {
   "cell_type": "code",
   "execution_count": 26,
   "id": "e5fc2963",
   "metadata": {},
   "outputs": [
    {
     "name": "stderr",
     "output_type": "stream",
     "text": [
      "Retrying langchain.chat_models.openai.ChatOpenAI.completion_with_retry.<locals>._completion_with_retry in 1.0 seconds as it raised APIConnectionError: Error communicating with OpenAI: ('Connection aborted.', RemoteDisconnected('Remote end closed connection without response')).\n"
     ]
    }
   ],
   "source": [
    "# create a new user prompt\n",
    "prompt = HumanMessage(\n",
    "    content=augmented_prompt\n",
    ")\n",
    "# add to messages\n",
    "messages.append(prompt)\n",
    "\n",
    "# send to OpenAI\n",
    "res = llm(messages)"
   ]
  },
  {
   "cell_type": "code",
   "execution_count": 27,
   "id": "44b1f659",
   "metadata": {},
   "outputs": [
    {
     "name": "stdout",
     "output_type": "stream",
     "text": [
      "Sure, the LLMChain is a type of chain in the LangChain framework. It is the most common type of chain and consists of a PromptTemplate, a model (either an LLM or a ChatModel), and an optional output parser. The LLMChain takes multiple input variables, uses the PromptTemplate to format them into a prompt, passes that to the model, and finally uses the OutputParser (if provided) to parse the output of the LLM into a final format. \n",
      "\n",
      "In general, LangChain is a framework for developing applications powered by language models. The framework is designed to enable applications that are data-aware and agentic, meaning that they can connect a language model to other sources of data and allow the language model to interact with its environment.\n"
     ]
    }
   ],
   "source": [
    "print(res.content)"
   ]
  }
 ],
 "metadata": {
  "kernelspec": {
   "display_name": "Python 3 (ipykernel)",
   "language": "python",
   "name": "python3"
  },
  "language_info": {
   "codemirror_mode": {
    "name": "ipython",
    "version": 3
   },
   "file_extension": ".py",
   "mimetype": "text/x-python",
   "name": "python",
   "nbconvert_exporter": "python",
   "pygments_lexer": "ipython3",
   "version": "3.11.4"
  }
 },
 "nbformat": 4,
 "nbformat_minor": 5
}
